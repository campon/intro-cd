{
 "cells": [
  {
   "cell_type": "code",
   "execution_count": null,
   "id": "41373bbc",
   "metadata": {},
   "outputs": [],
   "source": []
  },
  {
   "cell_type": "code",
   "execution_count": 2,
   "id": "e6d75474",
   "metadata": {},
   "outputs": [],
   "source": [
    "from time import time\n",
    "from pathlib import Path\n",
    "\n",
    "import pandas as pd\n",
    "import matplotlib.pyplot as plt\n",
    "import seaborn as sns\n",
    "import networkx as nx\n"
   ]
  },
  {
   "cell_type": "markdown",
   "id": "17eb2392",
   "metadata": {},
   "source": [
    "## Parte 1: Cargado y Limpieza de datos"
   ]
  },
  {
   "cell_type": "code",
   "execution_count": 3,
   "id": "bc7f8879",
   "metadata": {},
   "outputs": [
    {
     "data": {
      "text/html": [
       "<div>\n",
       "<style scoped>\n",
       "    .dataframe tbody tr th:only-of-type {\n",
       "        vertical-align: middle;\n",
       "    }\n",
       "\n",
       "    .dataframe tbody tr th {\n",
       "        vertical-align: top;\n",
       "    }\n",
       "\n",
       "    .dataframe thead th {\n",
       "        text-align: right;\n",
       "    }\n",
       "</style>\n",
       "<table border=\"1\" class=\"dataframe\">\n",
       "  <thead>\n",
       "    <tr style=\"text-align: right;\">\n",
       "      <th></th>\n",
       "      <th>speaker</th>\n",
       "      <th>title</th>\n",
       "      <th>text</th>\n",
       "      <th>date</th>\n",
       "      <th>location</th>\n",
       "      <th>type</th>\n",
       "    </tr>\n",
       "  </thead>\n",
       "  <tbody>\n",
       "    <tr>\n",
       "      <th>0</th>\n",
       "      <td>David Perdue</td>\n",
       "      <td>Georgia Sen. David Perdue Speech Transcript at...</td>\n",
       "      <td>David Perdue: (00:01)\\nHow great is it to be b...</td>\n",
       "      <td>Oct 16, 2020</td>\n",
       "      <td>Macon, Georgia</td>\n",
       "      <td>Campaign Speech</td>\n",
       "    </tr>\n",
       "    <tr>\n",
       "      <th>1</th>\n",
       "      <td>Joe Biden</td>\n",
       "      <td>Joe Biden Southfield, MI Speech on Health Care...</td>\n",
       "      <td>Joe Biden: (00:00)\\nHello, Michigan. Hi, how a...</td>\n",
       "      <td>Oct 16, 2020</td>\n",
       "      <td>Southfield ,Michigan</td>\n",
       "      <td>Campaign Speech</td>\n",
       "    </tr>\n",
       "    <tr>\n",
       "      <th>2</th>\n",
       "      <td>Donald Trump</td>\n",
       "      <td>Donald Trump Speech Transcript ‘Protecting Ame...</td>\n",
       "      <td>President Trump: (00:30)\\nThank you. What a ni...</td>\n",
       "      <td>Oct 16, 2020</td>\n",
       "      <td>Fort Myers, Florida</td>\n",
       "      <td>Campaign Speech</td>\n",
       "    </tr>\n",
       "    <tr>\n",
       "      <th>3</th>\n",
       "      <td>Joe Biden</td>\n",
       "      <td>Joe Biden ABC Town Hall Transcript October 15</td>\n",
       "      <td>George Stephanopoulos: (00:41)\\nHey, and welco...</td>\n",
       "      <td>Oct 15, 2020</td>\n",
       "      <td>ABC</td>\n",
       "      <td>Town Hall</td>\n",
       "    </tr>\n",
       "    <tr>\n",
       "      <th>4</th>\n",
       "      <td>Donald Trump</td>\n",
       "      <td>Donald Trump NBC Town Hall Transcript October 15</td>\n",
       "      <td>Savannah Guthrie: (03:50)\\nIt’s nothing but no...</td>\n",
       "      <td>Oct 15, 2020</td>\n",
       "      <td>NBC</td>\n",
       "      <td>Town Hall</td>\n",
       "    </tr>\n",
       "    <tr>\n",
       "      <th>...</th>\n",
       "      <td>...</td>\n",
       "      <td>...</td>\n",
       "      <td>...</td>\n",
       "      <td>...</td>\n",
       "      <td>...</td>\n",
       "      <td>...</td>\n",
       "    </tr>\n",
       "    <tr>\n",
       "      <th>264</th>\n",
       "      <td>Bernie Sanders</td>\n",
       "      <td>Bernie Sanders Speech Transcript: Sanders Spea...</td>\n",
       "      <td>Bernie Sanders: (00:00)\\nJust want to take thi...</td>\n",
       "      <td>Feb 6, 2020</td>\n",
       "      <td>Iowa</td>\n",
       "      <td>Campaign Speech</td>\n",
       "    </tr>\n",
       "    <tr>\n",
       "      <th>265</th>\n",
       "      <td>Democratic Candidates</td>\n",
       "      <td>Transcript: Speeches at the Iowa Caucuses – Be...</td>\n",
       "      <td>Bernie Sanders: (00:08)\\nThank you. Thank you....</td>\n",
       "      <td>Feb 4, 2020</td>\n",
       "      <td>Iowa</td>\n",
       "      <td>Campaign Speech</td>\n",
       "    </tr>\n",
       "    <tr>\n",
       "      <th>266</th>\n",
       "      <td>Donald Trump</td>\n",
       "      <td>Donal Trump Iowa Rally Transcript: Trump Holds...</td>\n",
       "      <td>Donald Trump: (00:24)\\nI worked so hard for th...</td>\n",
       "      <td>Jan 30, 2020</td>\n",
       "      <td>Des Moines, Iowa</td>\n",
       "      <td>Campaign Speech</td>\n",
       "    </tr>\n",
       "    <tr>\n",
       "      <th>267</th>\n",
       "      <td>Donald Trump</td>\n",
       "      <td>Donald Trump New Jersey Rally Speech Transcrip...</td>\n",
       "      <td>Donald Trump: (01:22)\\nThank you. Thank you. I...</td>\n",
       "      <td>Jan 28, 2020</td>\n",
       "      <td>Wildwood, New Jersey</td>\n",
       "      <td>Campaign Speech</td>\n",
       "    </tr>\n",
       "    <tr>\n",
       "      <th>268</th>\n",
       "      <td>Democratic Candidates</td>\n",
       "      <td>January Iowa Democratic Debate Transcript</td>\n",
       "      <td>Wolf Blitzer: (00:00)\\nAll right, so let’s beg...</td>\n",
       "      <td>Jan 15, 2020</td>\n",
       "      <td>Des Moines, Iowa</td>\n",
       "      <td>Debate</td>\n",
       "    </tr>\n",
       "  </tbody>\n",
       "</table>\n",
       "<p>269 rows × 6 columns</p>\n",
       "</div>"
      ],
      "text/plain": [
       "                   speaker                                              title  \\\n",
       "0             David Perdue  Georgia Sen. David Perdue Speech Transcript at...   \n",
       "1                Joe Biden  Joe Biden Southfield, MI Speech on Health Care...   \n",
       "2             Donald Trump  Donald Trump Speech Transcript ‘Protecting Ame...   \n",
       "3                Joe Biden      Joe Biden ABC Town Hall Transcript October 15   \n",
       "4             Donald Trump   Donald Trump NBC Town Hall Transcript October 15   \n",
       "..                     ...                                                ...   \n",
       "264         Bernie Sanders  Bernie Sanders Speech Transcript: Sanders Spea...   \n",
       "265  Democratic Candidates  Transcript: Speeches at the Iowa Caucuses – Be...   \n",
       "266           Donald Trump  Donal Trump Iowa Rally Transcript: Trump Holds...   \n",
       "267           Donald Trump  Donald Trump New Jersey Rally Speech Transcrip...   \n",
       "268  Democratic Candidates          January Iowa Democratic Debate Transcript   \n",
       "\n",
       "                                                  text          date  \\\n",
       "0    David Perdue: (00:01)\\nHow great is it to be b...  Oct 16, 2020   \n",
       "1    Joe Biden: (00:00)\\nHello, Michigan. Hi, how a...  Oct 16, 2020   \n",
       "2    President Trump: (00:30)\\nThank you. What a ni...  Oct 16, 2020   \n",
       "3    George Stephanopoulos: (00:41)\\nHey, and welco...  Oct 15, 2020   \n",
       "4    Savannah Guthrie: (03:50)\\nIt’s nothing but no...  Oct 15, 2020   \n",
       "..                                                 ...           ...   \n",
       "264  Bernie Sanders: (00:00)\\nJust want to take thi...   Feb 6, 2020   \n",
       "265  Bernie Sanders: (00:08)\\nThank you. Thank you....   Feb 4, 2020   \n",
       "266  Donald Trump: (00:24)\\nI worked so hard for th...  Jan 30, 2020   \n",
       "267  Donald Trump: (01:22)\\nThank you. Thank you. I...  Jan 28, 2020   \n",
       "268  Wolf Blitzer: (00:00)\\nAll right, so let’s beg...  Jan 15, 2020   \n",
       "\n",
       "                 location             type  \n",
       "0          Macon, Georgia  Campaign Speech  \n",
       "1    Southfield ,Michigan  Campaign Speech  \n",
       "2     Fort Myers, Florida  Campaign Speech  \n",
       "3                     ABC        Town Hall  \n",
       "4                     NBC        Town Hall  \n",
       "..                    ...              ...  \n",
       "264                  Iowa  Campaign Speech  \n",
       "265                  Iowa  Campaign Speech  \n",
       "266      Des Moines, Iowa  Campaign Speech  \n",
       "267  Wildwood, New Jersey  Campaign Speech  \n",
       "268      Des Moines, Iowa           Debate  \n",
       "\n",
       "[269 rows x 6 columns]"
      ]
     },
     "execution_count": 3,
     "metadata": {},
     "output_type": "execute_result"
    }
   ],
   "source": [
    "df_speeches = pd.read_csv('../data/us_2020_election_speeches.csv')\n",
    "df_speeches"
   ]
  },
  {
   "cell_type": "markdown",
   "id": "9c30db4c",
   "metadata": {},
   "source": [
    "# A) Datos faltantes"
   ]
  },
  {
   "cell_type": "markdown",
   "id": "6be2c20b",
   "metadata": {},
   "source": [
    "Hacemos uso de las funciones len() y el atributo count() para obtener los datos faltantes por variable en el dataframe df_speeches"
   ]
  },
  {
   "cell_type": "code",
   "execution_count": 8,
   "id": "255dcf44",
   "metadata": {},
   "outputs": [
    {
     "data": {
      "text/plain": [
       "speaker      3\n",
       "title        0\n",
       "text         0\n",
       "date         0\n",
       "location    18\n",
       "type        21\n",
       "dtype: int64"
      ]
     },
     "execution_count": 8,
     "metadata": {},
     "output_type": "execute_result"
    }
   ],
   "source": [
    "n = len(df_speeches)\n",
    "count = df_speeches.count()\n",
    "n-count"
   ]
  },
  {
   "cell_type": "code",
   "execution_count": null,
   "id": "42744cd4",
   "metadata": {},
   "outputs": [
    {
     "data": {
      "text/plain": [
       "speaker     object\n",
       "title       object\n",
       "text        object\n",
       "date        object\n",
       "location    object\n",
       "type        object\n",
       "dtype: object"
      ]
     },
     "execution_count": 5,
     "metadata": {},
     "output_type": "execute_result"
    }
   ],
   "source": [
    "# select numerical columns\n",
    "df_speeches.dtypes\n",
    "\n"
   ]
  },
  {
   "cell_type": "code",
   "execution_count": 6,
   "id": "1bfbea91",
   "metadata": {},
   "outputs": [
    {
     "name": "stdout",
     "output_type": "stream",
     "text": [
      "speaker :  Categorical\n",
      "title :  Text (Unique)\n",
      "text :  Text (Unique)\n",
      "date :  Categorical\n",
      "location :  Categorical\n",
      "type :  Categorical\n"
     ]
    }
   ],
   "source": [
    "def get_var_category(series):\n",
    "    unique_count = series.nunique(dropna=False)\n",
    "    total_count = len(series)\n",
    "    if pd.api.types.is_numeric_dtype(series):\n",
    "        return 'Numerical'\n",
    "    elif pd.api.types.is_datetime64_dtype(series):\n",
    "        return 'Date'\n",
    "    elif unique_count==total_count:\n",
    "        return 'Text (Unique)'\n",
    "    else:\n",
    "        return 'Categorical'\n",
    "\n",
    "def print_categories(df):\n",
    "    for column_name in df.columns:\n",
    "        print(column_name, \": \", get_var_category(df[column_name]))\n",
    "\n",
    "print_categories(df_speeches)"
   ]
  },
  {
   "cell_type": "code",
   "execution_count": 16,
   "id": "9b4f5f50",
   "metadata": {},
   "outputs": [
    {
     "data": {
      "text/html": [
       "<div>\n",
       "<style scoped>\n",
       "    .dataframe tbody tr th:only-of-type {\n",
       "        vertical-align: middle;\n",
       "    }\n",
       "\n",
       "    .dataframe tbody tr th {\n",
       "        vertical-align: top;\n",
       "    }\n",
       "\n",
       "    .dataframe thead th {\n",
       "        text-align: right;\n",
       "    }\n",
       "</style>\n",
       "<table border=\"1\" class=\"dataframe\">\n",
       "  <thead>\n",
       "    <tr style=\"text-align: right;\">\n",
       "      <th></th>\n",
       "      <th>speaker</th>\n",
       "      <th>title</th>\n",
       "      <th>text</th>\n",
       "      <th>date</th>\n",
       "      <th>location</th>\n",
       "      <th>type</th>\n",
       "    </tr>\n",
       "  </thead>\n",
       "  <tbody>\n",
       "    <tr>\n",
       "      <th>count</th>\n",
       "      <td>266</td>\n",
       "      <td>269</td>\n",
       "      <td>269</td>\n",
       "      <td>269</td>\n",
       "      <td>251</td>\n",
       "      <td>248</td>\n",
       "    </tr>\n",
       "    <tr>\n",
       "      <th>unique</th>\n",
       "      <td>71</td>\n",
       "      <td>269</td>\n",
       "      <td>269</td>\n",
       "      <td>123</td>\n",
       "      <td>102</td>\n",
       "      <td>9</td>\n",
       "    </tr>\n",
       "    <tr>\n",
       "      <th>top</th>\n",
       "      <td>Joe Biden</td>\n",
       "      <td>January Iowa Democratic Debate Transcript</td>\n",
       "      <td>Wolf Blitzer: (00:00)\\nAll right, so let’s beg...</td>\n",
       "      <td>Aug 27, 2020</td>\n",
       "      <td>Virtual</td>\n",
       "      <td>Campaign Speech</td>\n",
       "    </tr>\n",
       "    <tr>\n",
       "      <th>freq</th>\n",
       "      <td>71</td>\n",
       "      <td>1</td>\n",
       "      <td>1</td>\n",
       "      <td>9</td>\n",
       "      <td>62</td>\n",
       "      <td>180</td>\n",
       "    </tr>\n",
       "  </tbody>\n",
       "</table>\n",
       "</div>"
      ],
      "text/plain": [
       "          speaker                                      title  \\\n",
       "count         266                                        269   \n",
       "unique         71                                        269   \n",
       "top     Joe Biden  January Iowa Democratic Debate Transcript   \n",
       "freq           71                                          1   \n",
       "\n",
       "                                                     text          date  \\\n",
       "count                                                 269           269   \n",
       "unique                                                269           123   \n",
       "top     Wolf Blitzer: (00:00)\\nAll right, so let’s beg...  Aug 27, 2020   \n",
       "freq                                                    1             9   \n",
       "\n",
       "       location             type  \n",
       "count       251              248  \n",
       "unique      102                9  \n",
       "top     Virtual  Campaign Speech  \n",
       "freq         62              180  "
      ]
     },
     "execution_count": 16,
     "metadata": {},
     "output_type": "execute_result"
    }
   ],
   "source": [
    "df_speeches.describe()"
   ]
  },
  {
   "cell_type": "code",
   "execution_count": 25,
   "id": "275744e0",
   "metadata": {},
   "outputs": [
    {
     "data": {
      "text/plain": [
       "type\n",
       "Campaign Speech       180\n",
       "Town Hall              18\n",
       "Interview              14\n",
       "Debate                  9\n",
       "Endorsement             8\n",
       "Statement               8\n",
       "Roundtable              8\n",
       "Press Conference        2\n",
       "Voter Mobilization      1\n",
       "Name: count, dtype: int64"
      ]
     },
     "execution_count": 25,
     "metadata": {},
     "output_type": "execute_result"
    }
   ],
   "source": [
    "# how many types and obs are?\n",
    "df_speeches[\"type\"].value_counts()"
   ]
  },
  {
   "cell_type": "code",
   "execution_count": 33,
   "id": "82240da6",
   "metadata": {},
   "outputs": [],
   "source": [
    "# filter campaign speeches\n",
    "speeches = df_speeches[df_speeches[\"type\"] == \"Campaign Speech\"]\n"
   ]
  },
  {
   "cell_type": "code",
   "execution_count": 34,
   "id": "cdc82d08",
   "metadata": {},
   "outputs": [
    {
     "data": {
      "text/plain": [
       "speaker\n",
       "Joe Biden                   43\n",
       "Donald Trump                41\n",
       "Mike Pence                  17\n",
       "Bernie Sanders               9\n",
       "Kamala Harris                7\n",
       "Multiple Speakers            5\n",
       "Democratic Candidates        4\n",
       "Jill Biden                   2\n",
       "Pete Buttigieg               2\n",
       "David Perdue                 1\n",
       "Tom Cotton                   1\n",
       "Rudy Giuliani                1\n",
       "Ben Carson                   1\n",
       "Mitch McConnell              1\n",
       "Chen Guangcheng              1\n",
       "Lara Trump                   1\n",
       "Lou Holtz                    1\n",
       "Karen Pence                  1\n",
       "Jack Brewer                  1\n",
       "Kellyanne Conway             1\n",
       "Kayleigh McEnany             1\n",
       "Dan Crenshaw                 1\n",
       "Pam Bondi                    1\n",
       "Melania Trump                1\n",
       "Joe Biden,Kamala Harris      1\n",
       "Ivanka Trump                 1\n",
       "Eric Trump                   1\n",
       "Mike Pompeo                  1\n",
       "Rand Paul                    1\n",
       "Nicholas Sandmann            1\n",
       "Kimberly Guilfoyle           1\n",
       "Herschel Walker              1\n",
       "Donald Trump Jr.             1\n",
       "Tiffany Trump                1\n",
       "Nikki Haley                  1\n",
       "Jim Jordan                   1\n",
       "Michael Bloomberg            1\n",
       "Sarah Cooper                 1\n",
       "Cory Booker                  1\n",
       "Gavin Newsom                 1\n",
       "Andrew Yang                  1\n",
       "Tim Scott                    1\n",
       "Barack Obama                 1\n",
       "Elizabeth Warren             1\n",
       "Nancy Pelosi                 1\n",
       "Hillary Clinton              1\n",
       "Colin Powell                 1\n",
       "Alexandria Ocasio-Cortez     1\n",
       "Bill Clinton                 1\n",
       "Cindy McCain                 1\n",
       "Chuck Schumer                1\n",
       "Michelle Obama               1\n",
       "Andrew Cuomo                 1\n",
       "John Kasich                  1\n",
       "Gretchen Whitmer             1\n",
       "Joe Biden, Barack Obama      1\n",
       "Kanye West                   1\n",
       "Mike Bloomberg               1\n",
       "Name: count, dtype: int64"
      ]
     },
     "execution_count": 34,
     "metadata": {},
     "output_type": "execute_result"
    }
   ],
   "source": [
    "# group speeches by speaker\n",
    "speeches[\"speaker\"].value_counts()\n"
   ]
  },
  {
   "cell_type": "code",
   "execution_count": 38,
   "id": "c8f403aa",
   "metadata": {},
   "outputs": [],
   "source": [
    "# filter the first 5\n",
    "top5_speakers = speeches[\"speaker\"].value_counts().head(5).index\n",
    "\n",
    "top_speeches = speeches[speeches[\"speaker\"].isin(top5_speakers)]\n"
   ]
  }
 ],
 "metadata": {
  "kernelspec": {
   "display_name": "introcd",
   "language": "python",
   "name": "python3"
  },
  "language_info": {
   "codemirror_mode": {
    "name": "ipython",
    "version": 3
   },
   "file_extension": ".py",
   "mimetype": "text/x-python",
   "name": "python",
   "nbconvert_exporter": "python",
   "pygments_lexer": "ipython3",
   "version": "3.11.11"
  }
 },
 "nbformat": 4,
 "nbformat_minor": 5
}
