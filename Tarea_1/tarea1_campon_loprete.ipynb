{
 "cells": [
  {
   "cell_type": "code",
   "execution_count": null,
   "id": "41373bbc",
   "metadata": {},
   "outputs": [],
   "source": []
  },
  {
   "cell_type": "code",
   "execution_count": null,
   "id": "e6d75474",
   "metadata": {},
   "outputs": [],
   "source": [
    "from time import time\n",
    "from pathlib import Path\n",
    "\n",
    "import pandas as pd\n",
    "import matplotlib.pyplot as plt\n",
    "import seaborn as sns\n",
    "import networkx as nx\n"
   ]
  },
  {
   "cell_type": "markdown",
   "id": "17eb2392",
   "metadata": {},
   "source": [
    "## Parte 1: Cargado y Limpieza de datos"
   ]
  },
  {
   "cell_type": "code",
   "execution_count": null,
   "id": "bc7f8879",
   "metadata": {},
   "outputs": [
    {
     "data": {
      "text/html": [
       "<div>\n",
       "<style scoped>\n",
       "    .dataframe tbody tr th:only-of-type {\n",
       "        vertical-align: middle;\n",
       "    }\n",
       "\n",
       "    .dataframe tbody tr th {\n",
       "        vertical-align: top;\n",
       "    }\n",
       "\n",
       "    .dataframe thead th {\n",
       "        text-align: right;\n",
       "    }\n",
       "</style>\n",
       "<table border=\"1\" class=\"dataframe\">\n",
       "  <thead>\n",
       "    <tr style=\"text-align: right;\">\n",
       "      <th></th>\n",
       "      <th>speaker</th>\n",
       "      <th>title</th>\n",
       "      <th>text</th>\n",
       "      <th>date</th>\n",
       "      <th>location</th>\n",
       "      <th>type</th>\n",
       "    </tr>\n",
       "  </thead>\n",
       "  <tbody>\n",
       "    <tr>\n",
       "      <th>0</th>\n",
       "      <td>David Perdue</td>\n",
       "      <td>Georgia Sen. David Perdue Speech Transcript at...</td>\n",
       "      <td>David Perdue: (00:01)\\nHow great is it to be b...</td>\n",
       "      <td>Oct 16, 2020</td>\n",
       "      <td>Macon, Georgia</td>\n",
       "      <td>Campaign Speech</td>\n",
       "    </tr>\n",
       "    <tr>\n",
       "      <th>1</th>\n",
       "      <td>Joe Biden</td>\n",
       "      <td>Joe Biden Southfield, MI Speech on Health Care...</td>\n",
       "      <td>Joe Biden: (00:00)\\nHello, Michigan. Hi, how a...</td>\n",
       "      <td>Oct 16, 2020</td>\n",
       "      <td>Southfield ,Michigan</td>\n",
       "      <td>Campaign Speech</td>\n",
       "    </tr>\n",
       "    <tr>\n",
       "      <th>2</th>\n",
       "      <td>Donald Trump</td>\n",
       "      <td>Donald Trump Speech Transcript ‘Protecting Ame...</td>\n",
       "      <td>President Trump: (00:30)\\nThank you. What a ni...</td>\n",
       "      <td>Oct 16, 2020</td>\n",
       "      <td>Fort Myers, Florida</td>\n",
       "      <td>Campaign Speech</td>\n",
       "    </tr>\n",
       "    <tr>\n",
       "      <th>3</th>\n",
       "      <td>Joe Biden</td>\n",
       "      <td>Joe Biden ABC Town Hall Transcript October 15</td>\n",
       "      <td>George Stephanopoulos: (00:41)\\nHey, and welco...</td>\n",
       "      <td>Oct 15, 2020</td>\n",
       "      <td>ABC</td>\n",
       "      <td>Town Hall</td>\n",
       "    </tr>\n",
       "    <tr>\n",
       "      <th>4</th>\n",
       "      <td>Donald Trump</td>\n",
       "      <td>Donald Trump NBC Town Hall Transcript October 15</td>\n",
       "      <td>Savannah Guthrie: (03:50)\\nIt’s nothing but no...</td>\n",
       "      <td>Oct 15, 2020</td>\n",
       "      <td>NBC</td>\n",
       "      <td>Town Hall</td>\n",
       "    </tr>\n",
       "    <tr>\n",
       "      <th>...</th>\n",
       "      <td>...</td>\n",
       "      <td>...</td>\n",
       "      <td>...</td>\n",
       "      <td>...</td>\n",
       "      <td>...</td>\n",
       "      <td>...</td>\n",
       "    </tr>\n",
       "    <tr>\n",
       "      <th>264</th>\n",
       "      <td>Bernie Sanders</td>\n",
       "      <td>Bernie Sanders Speech Transcript: Sanders Spea...</td>\n",
       "      <td>Bernie Sanders: (00:00)\\nJust want to take thi...</td>\n",
       "      <td>Feb 6, 2020</td>\n",
       "      <td>Iowa</td>\n",
       "      <td>Campaign Speech</td>\n",
       "    </tr>\n",
       "    <tr>\n",
       "      <th>265</th>\n",
       "      <td>Democratic Candidates</td>\n",
       "      <td>Transcript: Speeches at the Iowa Caucuses – Be...</td>\n",
       "      <td>Bernie Sanders: (00:08)\\nThank you. Thank you....</td>\n",
       "      <td>Feb 4, 2020</td>\n",
       "      <td>Iowa</td>\n",
       "      <td>Campaign Speech</td>\n",
       "    </tr>\n",
       "    <tr>\n",
       "      <th>266</th>\n",
       "      <td>Donald Trump</td>\n",
       "      <td>Donal Trump Iowa Rally Transcript: Trump Holds...</td>\n",
       "      <td>Donald Trump: (00:24)\\nI worked so hard for th...</td>\n",
       "      <td>Jan 30, 2020</td>\n",
       "      <td>Des Moines, Iowa</td>\n",
       "      <td>Campaign Speech</td>\n",
       "    </tr>\n",
       "    <tr>\n",
       "      <th>267</th>\n",
       "      <td>Donald Trump</td>\n",
       "      <td>Donald Trump New Jersey Rally Speech Transcrip...</td>\n",
       "      <td>Donald Trump: (01:22)\\nThank you. Thank you. I...</td>\n",
       "      <td>Jan 28, 2020</td>\n",
       "      <td>Wildwood, New Jersey</td>\n",
       "      <td>Campaign Speech</td>\n",
       "    </tr>\n",
       "    <tr>\n",
       "      <th>268</th>\n",
       "      <td>Democratic Candidates</td>\n",
       "      <td>January Iowa Democratic Debate Transcript</td>\n",
       "      <td>Wolf Blitzer: (00:00)\\nAll right, so let’s beg...</td>\n",
       "      <td>Jan 15, 2020</td>\n",
       "      <td>Des Moines, Iowa</td>\n",
       "      <td>Debate</td>\n",
       "    </tr>\n",
       "  </tbody>\n",
       "</table>\n",
       "<p>269 rows × 6 columns</p>\n",
       "</div>"
      ],
      "text/plain": [
       "                   speaker                                              title  \\\n",
       "0             David Perdue  Georgia Sen. David Perdue Speech Transcript at...   \n",
       "1                Joe Biden  Joe Biden Southfield, MI Speech on Health Care...   \n",
       "2             Donald Trump  Donald Trump Speech Transcript ‘Protecting Ame...   \n",
       "3                Joe Biden      Joe Biden ABC Town Hall Transcript October 15   \n",
       "4             Donald Trump   Donald Trump NBC Town Hall Transcript October 15   \n",
       "..                     ...                                                ...   \n",
       "264         Bernie Sanders  Bernie Sanders Speech Transcript: Sanders Spea...   \n",
       "265  Democratic Candidates  Transcript: Speeches at the Iowa Caucuses – Be...   \n",
       "266           Donald Trump  Donal Trump Iowa Rally Transcript: Trump Holds...   \n",
       "267           Donald Trump  Donald Trump New Jersey Rally Speech Transcrip...   \n",
       "268  Democratic Candidates          January Iowa Democratic Debate Transcript   \n",
       "\n",
       "                                                  text          date  \\\n",
       "0    David Perdue: (00:01)\\nHow great is it to be b...  Oct 16, 2020   \n",
       "1    Joe Biden: (00:00)\\nHello, Michigan. Hi, how a...  Oct 16, 2020   \n",
       "2    President Trump: (00:30)\\nThank you. What a ni...  Oct 16, 2020   \n",
       "3    George Stephanopoulos: (00:41)\\nHey, and welco...  Oct 15, 2020   \n",
       "4    Savannah Guthrie: (03:50)\\nIt’s nothing but no...  Oct 15, 2020   \n",
       "..                                                 ...           ...   \n",
       "264  Bernie Sanders: (00:00)\\nJust want to take thi...   Feb 6, 2020   \n",
       "265  Bernie Sanders: (00:08)\\nThank you. Thank you....   Feb 4, 2020   \n",
       "266  Donald Trump: (00:24)\\nI worked so hard for th...  Jan 30, 2020   \n",
       "267  Donald Trump: (01:22)\\nThank you. Thank you. I...  Jan 28, 2020   \n",
       "268  Wolf Blitzer: (00:00)\\nAll right, so let’s beg...  Jan 15, 2020   \n",
       "\n",
       "                 location             type  \n",
       "0          Macon, Georgia  Campaign Speech  \n",
       "1    Southfield ,Michigan  Campaign Speech  \n",
       "2     Fort Myers, Florida  Campaign Speech  \n",
       "3                     ABC        Town Hall  \n",
       "4                     NBC        Town Hall  \n",
       "..                    ...              ...  \n",
       "264                  Iowa  Campaign Speech  \n",
       "265                  Iowa  Campaign Speech  \n",
       "266      Des Moines, Iowa  Campaign Speech  \n",
       "267  Wildwood, New Jersey  Campaign Speech  \n",
       "268      Des Moines, Iowa           Debate  \n",
       "\n",
       "[269 rows x 6 columns]"
      ]
     },
     "execution_count": 5,
     "metadata": {},
     "output_type": "execute_result"
    }
   ],
   "source": [
    "df_speeches = pd.read_csv('data/us_2020_election_speeches.csv')\n",
    "df_speeches"
   ]
  },
  {
   "cell_type": "markdown",
   "id": "9c30db4c",
   "metadata": {},
   "source": [
    "# A) Datos faltantes"
   ]
  },
  {
   "cell_type": "markdown",
   "id": "6be2c20b",
   "metadata": {},
   "source": [
    "Hacemos uso de las funciones len() y el atributo count() para obtener los datos faltantes por variable en el dataframe df_speeches"
   ]
  },
  {
   "cell_type": "code",
   "execution_count": 20,
   "id": "255dcf44",
   "metadata": {},
   "outputs": [
    {
     "data": {
      "text/plain": [
       "speaker      3\n",
       "title        0\n",
       "text         0\n",
       "date         0\n",
       "location    18\n",
       "type        21\n",
       "dtype: int64"
      ]
     },
     "execution_count": 20,
     "metadata": {},
     "output_type": "execute_result"
    }
   ],
   "source": [
    "n = len(df_speeches)\n",
    "count = df_speeches.count()\n",
    "n-count"
   ]
  },
  {
   "cell_type": "code",
   "execution_count": null,
   "id": "42744cd4",
   "metadata": {},
   "outputs": [],
   "source": []
  },
  {
   "cell_type": "code",
   "execution_count": null,
   "id": "1bfbea91",
   "metadata": {},
   "outputs": [],
   "source": []
  },
  {
   "cell_type": "code",
   "execution_count": null,
   "id": "9b4f5f50",
   "metadata": {},
   "outputs": [],
   "source": []
  }
 ],
 "metadata": {
  "kernelspec": {
   "display_name": "introcd",
   "language": "python",
   "name": "python3"
  },
  "language_info": {
   "codemirror_mode": {
    "name": "ipython",
    "version": 3
   },
   "file_extension": ".py",
   "mimetype": "text/x-python",
   "name": "python",
   "nbconvert_exporter": "python",
   "pygments_lexer": "ipython3",
   "version": "3.11.11"
  }
 },
 "nbformat": 4,
 "nbformat_minor": 5
}
